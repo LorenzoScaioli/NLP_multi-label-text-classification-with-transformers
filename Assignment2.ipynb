{
 "cells": [
  {
   "cell_type": "markdown",
   "metadata": {
    "id": "-WeCeITXoxLf",
    "slideshow": {
     "slide_type": "slide"
    }
   },
   "source": [
    "# Assignment 2\n",
    "\n",
    "**Credits**: Federico Ruggeri, Eleonora Mancini, Paolo Torroni\n",
    "\n",
    "**Keywords**: Human Value Detection, Multi-label classification, Transformers, BERT"
   ]
  },
  {
   "cell_type": "markdown",
   "metadata": {
    "slideshow": {
     "slide_type": "subslide"
    }
   },
   "source": [
    "\n",
    "# Contact\n",
    "\n",
    "For any doubt, question, issue or help, you can always contact us at the following email addresses:\n",
    "\n",
    "Teaching Assistants:\n",
    "\n",
    "* Federico Ruggeri -> federico.ruggeri6@unibo.it\n",
    "* Eleonora Mancini -> e.mancini@unibo.it\n",
    "\n",
    "Professor:\n",
    "\n",
    "* Paolo Torroni -> p.torroni@unibo.it"
   ]
  },
  {
   "cell_type": "markdown",
   "metadata": {
    "slideshow": {
     "slide_type": "slide"
    }
   },
   "source": [
    "# Introduction\n",
    "\n",
    "You are tasked to address the [Human Value Detection challenge](https://aclanthology.org/2022.acl-long.306/)."
   ]
  },
  {
   "cell_type": "markdown",
   "metadata": {
    "slideshow": {
     "slide_type": "fragment"
    }
   },
   "source": [
    "## Problem definition\n",
    "\n",
    "Arguments are paired with their conveyed human values.\n",
    "\n",
    "Arguments are in the form of **premise** $\\rightarrow$ **conclusion**.\n",
    "\n",
    "### Example:\n",
    "\n",
    "**Premise**: *``fast food should be banned because it is really bad for your health and is costly''*\n",
    "\n",
    "**Conclusion**: *``We should ban fast food''*\n",
    "\n",
    "**Stance**: *in favour of*"
   ]
  },
  {
   "cell_type": "markdown",
   "metadata": {
    "slideshow": {
     "slide_type": "subslide"
    }
   },
   "source": [
    "<center>\n",
    "    <img src=\"images/human_values.png\" alt=\"human values\" />\n",
    "</center>"
   ]
  },
  {
   "cell_type": "markdown",
   "metadata": {
    "slideshow": {
     "slide_type": "slide"
    }
   },
   "source": [
    "# [Task 1 - 0.5 points] Corpus\n",
    "\n",
    "Check the official page of the challenge [here](https://touche.webis.de/semeval23/touche23-web/).\n",
    "\n",
    "The challenge offers several corpora for evaluation and testing.\n",
    "\n",
    "You are going to work with the standard training, validation, and test splits.\n",
    "\n",
    "#### Arguments\n",
    "* arguments-training.tsv\n",
    "* arguments-validation.tsv\n",
    "* arguments-test.tsv\n",
    "\n",
    "#### Human values\n",
    "* labels-training.tsv\n",
    "* labels-validation.tsv\n",
    "* labels-test.tsv"
   ]
  },
  {
   "cell_type": "markdown",
   "metadata": {
    "slideshow": {
     "slide_type": "subslide"
    }
   },
   "source": [
    "### Example\n",
    "\n",
    "#### arguments-*.tsv\n",
    "```\n",
    "\n",
    "Argument ID    A01005\n",
    "\n",
    "Conclusion     We should ban fast food\n",
    "\n",
    "Stance         in favor of\n",
    "\n",
    "Premise        fast food should be banned because it is really bad for your health and is costly.\n",
    "```\n",
    "\n",
    "#### labels-*.tsv\n",
    "\n",
    "```\n",
    "Argument ID                A01005\n",
    "\n",
    "Self-direction: thought    0\n",
    "Self-direction: action     0\n",
    "...\n",
    "Universalism: objectivity: 0\n",
    "```"
   ]
  },
  {
   "cell_type": "markdown",
   "metadata": {
    "slideshow": {
     "slide_type": "subslide"
    }
   },
   "source": [
    "### Splits\n",
    "\n",
    "The standard splits contain\n",
    "\n",
    "   * **Train**: 5393 arguments\n",
    "   * **Validation**: 1896 arguments\n",
    "   * **Test**: 1576 arguments"
   ]
  },
  {
   "cell_type": "markdown",
   "metadata": {
    "slideshow": {
     "slide_type": "subslide"
    }
   },
   "source": [
    "### Annotations\n",
    "\n",
    "In this assignment, you are tasked to address a multi-label classification problem.\n",
    "\n",
    "You are going to consider **level 3** categories:\n",
    "\n",
    "* Openness to change\n",
    "* Self-enhancement\n",
    "* Conversation\n",
    "* Self-transcendence"
   ]
  },
  {
   "cell_type": "markdown",
   "metadata": {
    "slideshow": {
     "slide_type": "subslide"
    }
   },
   "source": [
    "**How to do that?**\n",
    "\n",
    "You have to merge (**logical OR**) annotations of level 2 categories belonging to the same level 3 category.\n",
    "\n",
    "**Pay attention to shared level 2 categories** (e.g., Hedonism). $\\rightarrow$ [see Table 1 in the original paper.](https://aclanthology.org/2022.acl-long.306/)\n",
    "\n",
    "#### Example\n",
    "\n",
    "```\n",
    "Self-direction: thought:    0\n",
    "Self-direction: action:     1\n",
    "Stimulation:                0\n",
    "Hedonism:                   1\n",
    "\n",
    "Openess to change           1\n",
    "```"
   ]
  },
  {
   "cell_type": "markdown",
   "metadata": {
    "slideshow": {
     "slide_type": "subslide"
    }
   },
   "source": [
    "### Instructions\n",
    "\n",
    "* **Download** the specificed training, validation, and test files.\n",
    "* **Encode** split files into a pandas.DataFrame object.\n",
    "* For each split, **merge** the arguments and labels dataframes into a single dataframe.\n",
    "* **Merge** level 2 annotations to level 3 categories."
   ]
  },
  {
   "cell_type": "code",
   "execution_count": 131,
   "metadata": {},
   "outputs": [],
   "source": [
    "# file management\n",
    "import urllib\n",
    "from pathlib import Path\n",
    "\n",
    "# dataframe management\n",
    "import pandas as pd\n",
    "\n",
    "# data manipulation\n",
    "import numpy as np\n",
    "\n",
    "# for readability\n",
    "from typing import Iterable\n",
    "from tqdm import tqdm"
   ]
  },
  {
   "cell_type": "markdown",
   "metadata": {},
   "source": [
    "#### Download"
   ]
  },
  {
   "cell_type": "code",
   "execution_count": 132,
   "metadata": {},
   "outputs": [],
   "source": [
    "class DownloadProgressBar(tqdm):\n",
    "    def update_to(self, b=1, bsize=1, tsize=None):\n",
    "        if tsize is not None:\n",
    "            self.total = tsize\n",
    "        self.update(b * bsize - self.n)\n",
    "\n",
    "def download_url(download_path: Path, url: str):\n",
    "    with DownloadProgressBar(unit='B', unit_scale=True,\n",
    "                             miniters=1, desc=url.split('/')[-1]) as t:\n",
    "        urllib.request.urlretrieve(url, filename=download_path, reporthook=t.update_to)\n",
    "\n",
    "\n",
    "def download_dataset(download_path: Path, url: str):\n",
    "    print(\"Downloading dataset...\")\n",
    "    download_url(url=url, download_path=download_path)\n",
    "    print(\"Download complete!\")\n",
    "\n",
    "def clean_download(url, name, folder):\n",
    "    print(f\"Current work directory: {Path.cwd()}\")\n",
    "    dataset_folder = Path.cwd().joinpath(\"Datasets\").joinpath(folder)\n",
    "\n",
    "    if not dataset_folder.exists():\n",
    "        dataset_folder.mkdir(parents=True)\n",
    "\n",
    "    dataset_path = dataset_folder.joinpath(name)\n",
    "\n",
    "    if not dataset_path.exists():\n",
    "        download_dataset(dataset_path, url)"
   ]
  },
  {
   "cell_type": "code",
   "execution_count": 133,
   "metadata": {},
   "outputs": [
    {
     "name": "stdout",
     "output_type": "stream",
     "text": [
      "Current work directory: /Users/giacomopiergentili/Developer/NLP/Assignment2/NLP_multi-label-text-classification-with-transformers\n",
      "Current work directory: /Users/giacomopiergentili/Developer/NLP/Assignment2/NLP_multi-label-text-classification-with-transformers\n",
      "Current work directory: /Users/giacomopiergentili/Developer/NLP/Assignment2/NLP_multi-label-text-classification-with-transformers\n",
      "Current work directory: /Users/giacomopiergentili/Developer/NLP/Assignment2/NLP_multi-label-text-classification-with-transformers\n",
      "Current work directory: /Users/giacomopiergentili/Developer/NLP/Assignment2/NLP_multi-label-text-classification-with-transformers\n",
      "Current work directory: /Users/giacomopiergentili/Developer/NLP/Assignment2/NLP_multi-label-text-classification-with-transformers\n"
     ]
    }
   ],
   "source": [
    "arguments_split = [\"arguments-training.tsv\", \"arguments-validation.tsv\", \"arguments-test.tsv\"]\n",
    "labels_split = [\"labels-training.tsv\", \"labels-validation.tsv\", \"labels-test.tsv\"]\n",
    "\n",
    "for argument in arguments_split:\n",
    "    url = \"https://zenodo.org/records/8248658/files/\" + argument + \"?download=1\"\n",
    "    clean_download(url, argument, \"Arguments\")\n",
    "\n",
    "for label in labels_split:\n",
    "    url = \"https://zenodo.org/records/8248658/files/\" + label + \"?download=1\"\n",
    "    clean_download(url, label, \"Labels\")\n"
   ]
  },
  {
   "cell_type": "markdown",
   "metadata": {},
   "source": [
    "#### Encode"
   ]
  },
  {
   "cell_type": "code",
   "execution_count": 134,
   "metadata": {},
   "outputs": [],
   "source": [
    "# Read the arguments split files into DataFrames\n",
    "arguments_train_df = pd.read_table('Datasets/Arguments/arguments-training.tsv', sep='\\t')\n",
    "arguments_val_df = pd.read_table('Datasets/Arguments/arguments-validation.tsv', sep='\\t')\n",
    "arguments_test_df = pd.read_table('Datasets/Arguments/arguments-test.tsv', sep='\\t')\n",
    "\n",
    "# Read the labels split files into DataFrames\n",
    "labels_train_df = pd.read_table('Datasets/Labels/labels-training.tsv', sep='\\t')\n",
    "labels_val_df = pd.read_table('Datasets/Labels/labels-validation.tsv', sep='\\t')\n",
    "labels_test_df = pd.read_table('Datasets/Labels/labels-test.tsv', sep='\\t')\n"
   ]
  },
  {
   "cell_type": "markdown",
   "metadata": {},
   "source": [
    "#### Merge arguments and labels"
   ]
  },
  {
   "cell_type": "code",
   "execution_count": 135,
   "metadata": {},
   "outputs": [],
   "source": [
    "train_merge_df = pd.merge(arguments_train_df, labels_train_df, on='Argument ID')\n",
    "val_merge_df = pd.merge(arguments_val_df, labels_val_df, on='Argument ID')\n",
    "test_merge_df = pd.merge(arguments_test_df, labels_test_df, on='Argument ID')\n"
   ]
  },
  {
   "cell_type": "markdown",
   "metadata": {},
   "source": [
    "#### Merge level 2 annotations to level 3 categories\n",
    "\n",
    "* Openness to change\n",
    "* Self-enhancement\n",
    "* Conversation\n",
    "* Self-transcendence"
   ]
  },
  {
   "cell_type": "code",
   "execution_count": 136,
   "metadata": {},
   "outputs": [],
   "source": [
    "level_2_categories = train_merge_df.columns[4:]"
   ]
  },
  {
   "cell_type": "code",
   "execution_count": 137,
   "metadata": {},
   "outputs": [],
   "source": [
    "level_2_to_Openness_to_change = level_2_categories[:4]\n",
    "level_2_to_Self_enhancement = level_2_categories[3:8]\n",
    "level_2_to_Conservation = level_2_categories[7:14]\n",
    "level_2_to_Self_transcendence = level_2_categories[13:]"
   ]
  },
  {
   "cell_type": "code",
   "execution_count": 138,
   "metadata": {},
   "outputs": [],
   "source": [
    "def merge_categories(df):\n",
    "    df['Openness to change'] = [int(any(df[level_2_to_Openness_to_change].loc[i])) for i in range(len(df))]\n",
    "    df['Self-enhancement'] = [int(any(df[level_2_to_Self_enhancement].loc[i])) for i in range(len(df))]\n",
    "    df['Conservation'] = [int(any(df[level_2_to_Conservation].loc[i])) for i in range(len(df))]\n",
    "    df['Self-trascendence'] = [int(any(df[level_2_to_Self_transcendence].loc[i])) for i in range(len(df))]\n",
    "    return df.drop(level_2_categories, axis=1)"
   ]
  },
  {
   "cell_type": "code",
   "execution_count": 139,
   "metadata": {},
   "outputs": [],
   "source": [
    "final_train_df = merge_categories(train_merge_df)\n",
    "final_val_df = merge_categories(val_merge_df)\n",
    "final_test_df = merge_categories(test_merge_df)"
   ]
  },
  {
   "cell_type": "markdown",
   "metadata": {
    "slideshow": {
     "slide_type": "slide"
    }
   },
   "source": [
    "# [Task 2 - 2.0 points] Model definition\n",
    "\n",
    "You are tasked to define several neural models for multi-label classification."
   ]
  },
  {
   "cell_type": "markdown",
   "metadata": {
    "slideshow": {
     "slide_type": "fragment"
    }
   },
   "source": [
    "<center>\n",
    "    <img src=\"images/model_schema.png\" alt=\"model_schema\" />\n",
    "</center>"
   ]
  },
  {
   "cell_type": "markdown",
   "metadata": {
    "slideshow": {
     "slide_type": "subslide"
    }
   },
   "source": [
    "### Instructions\n",
    "\n",
    "* **Baseline**: implement a random uniform classifier (an individual classifier per category).\n",
    "* **Baseline**: implement a majority classifier (an individual classifier per category).\n",
    "\n",
    "<br/>\n",
    "\n",
    "* **BERT w/ C**: define a BERT-based classifier that receives an argument **conclusion** as input.\n",
    "* **BERT w/ CP**: add argument **premise** as an additional input.\n",
    "* **BERT w/ CPS**: add argument premise-to-conclusion **stance** as an additional input."
   ]
  },
  {
   "cell_type": "markdown",
   "metadata": {
    "slideshow": {
     "slide_type": "subslide"
    }
   },
   "source": [
    "### Notes\n",
    "\n",
    "**Do not mix models**. Each model has its own instructions.\n",
    "\n",
    "You are **free** to select the BERT-based model card from huggingface."
   ]
  },
  {
   "cell_type": "markdown",
   "metadata": {
    "slideshow": {
     "slide_type": "fragment"
    }
   },
   "source": [
    "#### Examples\n",
    "\n",
    "```\n",
    "bert-base-uncased\n",
    "prajjwal1/bert-tiny\n",
    "distilbert-base-uncased\n",
    "roberta-base\n",
    "```"
   ]
  },
  {
   "cell_type": "markdown",
   "metadata": {
    "slideshow": {
     "slide_type": "subslide"
    }
   },
   "source": [
    "### BERT w/ C\n",
    "\n",
    "<center>\n",
    "    <img src=\"images/bert_c.png\" alt=\"BERT w/ C\" />\n",
    "</center>"
   ]
  },
  {
   "cell_type": "markdown",
   "metadata": {
    "slideshow": {
     "slide_type": "subslide"
    }
   },
   "source": [
    "### BERT w/ CP\n",
    "\n",
    "<center>\n",
    "    <img src=\"images/bert_cp.png\" alt=\"BERT w/ CP\" />\n",
    "</center>"
   ]
  },
  {
   "cell_type": "markdown",
   "metadata": {
    "slideshow": {
     "slide_type": "subslide"
    }
   },
   "source": [
    "### BERT w/ CPS\n",
    "\n",
    "<center>\n",
    "    <img src=\"images/bert_cps.png\" alt=\"BERT w/ CPS\" />\n",
    "</center>"
   ]
  },
  {
   "cell_type": "markdown",
   "metadata": {
    "slideshow": {
     "slide_type": "subslide"
    }
   },
   "source": [
    "### Input concatenation\n",
    "\n",
    "<center>\n",
    "    <img src=\"images/input_merging.png\" alt=\"Input merging\" />\n",
    "</center>"
   ]
  },
  {
   "cell_type": "markdown",
   "metadata": {
    "slideshow": {
     "slide_type": "subslide"
    }
   },
   "source": [
    "### Notes\n",
    "\n",
    "The **stance** input has to be encoded into a numerical format.\n",
    "\n",
    "You **should** use the same model instance to encode **premise** and **conclusion** inputs."
   ]
  },
  {
   "cell_type": "markdown",
   "metadata": {
    "slideshow": {
     "slide_type": "slide"
    }
   },
   "source": [
    "# [Task 3 - 0.5 points] Metrics\n",
    "\n",
    "Before training the models, you are tasked to define the evaluation metrics for comparison."
   ]
  },
  {
   "cell_type": "markdown",
   "metadata": {
    "slideshow": {
     "slide_type": "fragment"
    }
   },
   "source": [
    "### Instructions\n",
    "\n",
    "* Evaluate your models using per-category binary F1-score.\n",
    "* Compute the average binary F1-score over all categories (macro F1-score)."
   ]
  },
  {
   "cell_type": "markdown",
   "metadata": {
    "slideshow": {
     "slide_type": "subslide"
    }
   },
   "source": [
    "### Example\n",
    "\n",
    "You start with individual predictions ($\\rightarrow$ samples).\n",
    "\n",
    "```\n",
    "Openess to change:    0 0 1 0 1 1 0 ...\n",
    "Self-enhancement:     1 0 0 0 1 0 1 ...\n",
    "Conversation:         0 0 0 1 1 0 1 ...\n",
    "Self-transcendence:   1 1 0 1 0 1 0 ...\n",
    "```"
   ]
  },
  {
   "cell_type": "markdown",
   "metadata": {
    "slideshow": {
     "slide_type": "fragment"
    }
   },
   "source": [
    "You compute per-category binary F1-score.\n",
    "\n",
    "```\n",
    "Openess to change F1:    0.35\n",
    "Self-enhancement F1:     0.55\n",
    "Conversation F1:         0.80\n",
    "Self-transcendence F1:   0.21\n",
    "```"
   ]
  },
  {
   "cell_type": "markdown",
   "metadata": {
    "slideshow": {
     "slide_type": "fragment"
    }
   },
   "source": [
    "You then average per-category scores.\n",
    "```\n",
    "Average F1: ~0.48\n",
    "```"
   ]
  },
  {
   "cell_type": "markdown",
   "metadata": {
    "slideshow": {
     "slide_type": "slide"
    }
   },
   "source": [
    "# [Task 4 - 1.0 points] Training and Evaluation\n",
    "\n",
    "You are now tasked to train and evaluate **all** defined models."
   ]
  },
  {
   "cell_type": "markdown",
   "metadata": {
    "slideshow": {
     "slide_type": "fragment"
    }
   },
   "source": [
    "### Instructions\n",
    "\n",
    "* Train **all** models on the train set.\n",
    "* Evaluate **all** models on the validation set.\n",
    "* Pick **at least** three seeds for robust estimation.\n",
    "* Compute metrics on the validation set.\n",
    "* Report **per-category** and **macro** F1-score for comparison."
   ]
  },
  {
   "cell_type": "markdown",
   "metadata": {
    "slideshow": {
     "slide_type": "slide"
    }
   },
   "source": [
    "# [Task 5 - 1.0 points] Error Analysis\n",
    "\n",
    "You are tasked to discuss your results."
   ]
  },
  {
   "cell_type": "markdown",
   "metadata": {
    "slideshow": {
     "slide_type": "fragment"
    }
   },
   "source": [
    "### Instructions\n",
    "\n",
    "* **Compare** classification performance of BERT-based models with respect to baselines.\n",
    "* Discuss **difference in prediction** between the best performing BERT-based model and its variants."
   ]
  },
  {
   "cell_type": "markdown",
   "metadata": {
    "slideshow": {
     "slide_type": "fragment"
    }
   },
   "source": [
    "### Notes\n",
    "\n",
    "You can check the [original paper](https://aclanthology.org/2022.acl-long.306/) for suggestions on how to perform comparisons (e.g., plots, tables, etc...)."
   ]
  },
  {
   "cell_type": "markdown",
   "metadata": {
    "slideshow": {
     "slide_type": "slide"
    }
   },
   "source": [
    "# [Task 6 - 1.0 points] Report\n",
    "\n",
    "Wrap up your experiment in a short report (up to 2 pages)."
   ]
  },
  {
   "cell_type": "markdown",
   "metadata": {
    "slideshow": {
     "slide_type": "fragment"
    }
   },
   "source": [
    "### Instructions\n",
    "\n",
    "* Use the NLP course report template.\n",
    "* Summarize each task in the report following the provided template."
   ]
  },
  {
   "cell_type": "markdown",
   "metadata": {
    "slideshow": {
     "slide_type": "subslide"
    }
   },
   "source": [
    "### Recommendations\n",
    "\n",
    "The report is not a copy-paste of graphs, tables, and command outputs.\n",
    "\n",
    "* Summarize classification performance in Table format.\n",
    "* **Do not** report command outputs or screenshots.\n",
    "* Report learning curves in Figure format.\n",
    "* The error analysis section should summarize your findings."
   ]
  },
  {
   "cell_type": "markdown",
   "metadata": {
    "slideshow": {
     "slide_type": "slide"
    }
   },
   "source": [
    "# Submission\n",
    "\n",
    "* **Submit** your report in PDF format.\n",
    "* **Submit** your python notebook.\n",
    "* Make sure your notebook is **well organized**, with no temporary code, commented sections, tests, etc...\n",
    "* You can upload **model weights** in a cloud repository and report the link in the report."
   ]
  },
  {
   "cell_type": "markdown",
   "metadata": {
    "slideshow": {
     "slide_type": "slide"
    }
   },
   "source": [
    "# FAQ\n",
    "\n",
    "Please check this frequently asked questions before contacting us"
   ]
  },
  {
   "cell_type": "markdown",
   "metadata": {
    "slideshow": {
     "slide_type": "subslide"
    }
   },
   "source": [
    "### Model card\n",
    "\n",
    "You are **free** to choose the BERT-base model card you like from huggingface."
   ]
  },
  {
   "cell_type": "markdown",
   "metadata": {
    "slideshow": {
     "slide_type": "subslide"
    }
   },
   "source": [
    "### Model architecture\n",
    "\n",
    "You **should not** change the architecture of a model (i.e., its layers).\n",
    "\n",
    "However, you are **free** to play with their hyper-parameters."
   ]
  },
  {
   "cell_type": "markdown",
   "metadata": {
    "slideshow": {
     "slide_type": "subslide"
    }
   },
   "source": [
    "### Model Training\n",
    "\n",
    "You are **free** to choose training hyper-parameters for BERT-based models (e.g., number of epochs, etc...)."
   ]
  },
  {
   "cell_type": "markdown",
   "metadata": {
    "slideshow": {
     "slide_type": "subslide"
    }
   },
   "source": [
    "### Neural Libraries\n",
    "\n",
    "You are **free** to use any library of your choice to address the assignment (e.g., Keras, Tensorflow, PyTorch, JAX, etc...)"
   ]
  },
  {
   "cell_type": "markdown",
   "metadata": {
    "slideshow": {
     "slide_type": "subslide"
    }
   },
   "source": [
    "### Error Analysis\n",
    "\n",
    "Some topics for discussion include:\n",
    "   * Model performance on most/less frequent classes.\n",
    "   * Precision/Recall curves.\n",
    "   * Confusion matrices.\n",
    "   * Specific misclassified samples."
   ]
  },
  {
   "cell_type": "markdown",
   "metadata": {
    "slideshow": {
     "slide_type": "slide"
    }
   },
   "source": [
    "# The End"
   ]
  }
 ],
 "metadata": {
  "celltoolbar": "Slideshow",
  "colab": {
   "collapsed_sections": [],
   "provenance": []
  },
  "kernelspec": {
   "display_name": "Python 3 (ipykernel)",
   "language": "python",
   "name": "python3"
  },
  "language_info": {
   "codemirror_mode": {
    "name": "ipython",
    "version": 3
   },
   "file_extension": ".py",
   "mimetype": "text/x-python",
   "name": "python",
   "nbconvert_exporter": "python",
   "pygments_lexer": "ipython3",
   "version": "3.11.6"
  }
 },
 "nbformat": 4,
 "nbformat_minor": 1
}
